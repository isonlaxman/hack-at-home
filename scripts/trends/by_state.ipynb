{
 "metadata": {
  "language_info": {
   "codemirror_mode": {
    "name": "ipython",
    "version": 3
   },
   "file_extension": ".py",
   "mimetype": "text/x-python",
   "name": "python",
   "nbconvert_exporter": "python",
   "pygments_lexer": "ipython3",
   "version": "3.8.2-final"
  },
  "orig_nbformat": 2,
  "kernelspec": {
   "name": "Python 3.8.2 64-bit ('3.8.2': conda)",
   "display_name": "Python 3.8.2 64-bit ('3.8.2': conda)",
   "metadata": {
    "interpreter": {
     "hash": "b968f9a99a52a15b1c70403e8c7a53e9f964ddd27d956b947559defaadb1c37a"
    }
   }
  }
 },
 "nbformat": 4,
 "nbformat_minor": 2,
 "cells": [
  {
   "cell_type": "code",
   "execution_count": 1,
   "metadata": {},
   "outputs": [],
   "source": [
    "from pytrends.request import TrendReq\n",
    "from addon import *\n",
    "import pandas as pd\n",
    "import time\n",
    "import pycountry"
   ]
  },
  {
   "cell_type": "code",
   "execution_count": 30,
   "metadata": {},
   "outputs": [],
   "source": [
    "\n",
    "pytrends = TrendReq(hl='en-US', tz=360)\n",
    "\n",
    "## %\n",
    "kw_list = [\"do i have covid\"]\n",
    "df = pd.DataFrame()"
   ]
  },
  {
   "cell_type": "code",
   "execution_count": 31,
   "metadata": {},
   "outputs": [],
   "source": [
    "states = [ 'AL', 'AZ', 'AR', 'CA', 'CO', 'CT', 'DE', 'DC', 'FL', 'GA', 'IL', 'IN', 'KS', 'KY', 'LA', 'MD', 'MA', 'MI', 'MN', 'MS', 'MO', 'MT', 'NE', 'NV', 'NH', 'NJ', 'NM', 'NY', 'NC', 'ND', 'OK', 'OR', 'PA', 'RI', 'SC', 'SD', 'TN', 'TX', 'VT', 'VA', 'WA', 'WV', 'WI', 'WY']"
   ]
  },
  {
   "cell_type": "code",
   "execution_count": 32,
   "metadata": {},
   "outputs": [
    {
     "output_type": "stream",
     "name": "stdout",
     "text": [
      "AL\n",
      "AZ\n",
      "AR\n",
      "CA\n",
      "CO\n",
      "CT\n",
      "DE\n",
      "DC\n",
      "FL\n",
      "GA\n",
      "IL\n",
      "IN\n",
      "KS\n",
      "KY\n",
      "LA\n",
      "MD\n",
      "MA\n",
      "MI\n",
      "MN\n",
      "MS\n",
      "MO\n",
      "MT\n",
      "NE\n",
      "NV\n",
      "NH\n",
      "NJ\n",
      "NM\n",
      "NY\n",
      "NC\n",
      "ND\n",
      "OK\n",
      "OR\n",
      "PA\n",
      "RI\n",
      "SC\n",
      "SD\n",
      "TN\n",
      "TX\n",
      "VT\n",
      "VA\n",
      "WA\n",
      "WV\n",
      "WI\n",
      "WY\n"
     ]
    }
   ],
   "source": [
    "i = 0\n",
    "while i < len(states):\n",
    "    try:\n",
    "        pytrends.build_payload(kw_list, cat=0, timeframe='2020-03-22 2020-10-09', geo=\"US-\" + states[i], gprop='')\n",
    "        \n",
    "        state_df = pytrends.interest_over_time()\n",
    "        state_df[\"State\"] = states[i]\n",
    "        \n",
    "        df = pd.concat([df, state_df])\n",
    "        time.sleep(.1)\n",
    "\n",
    "        print(states[i])\n",
    "        i += 1\n",
    "\n",
    "        time.sleep(3)\n",
    "    except Exception as e:\n",
    "        i -= 1\n",
    "        time.sleep(5)\n",
    "        print(e)\n"
   ]
  },
  {
   "cell_type": "code",
   "execution_count": 33,
   "metadata": {},
   "outputs": [],
   "source": [
    "df.to_csv(\"../../data/trends/final_data/USA_statewise_2.csv\")"
   ]
  },
  {
   "cell_type": "code",
   "execution_count": 36,
   "metadata": {},
   "outputs": [
    {
     "output_type": "stream",
     "name": "stdout",
     "text": [
      "                   date     FIPS     Admin2  Province_State Country_Region  \\\n820 2020-03-22 00:00:01  45001.0  Abbeville  South Carolina             US   \n0   2020-03-23 00:00:01  45001.0  Abbeville  South Carolina             US   \n0   2020-03-24 00:00:01  45001.0  Abbeville  South Carolina             US   \n0   2020-03-25 00:00:01  45001.0  Abbeville  South Carolina             US   \n0   2020-03-26 00:00:01  45001.0  Abbeville  South Carolina             US   \n..                  ...      ...        ...             ...            ...   \n779 2020-07-11 00:00:01  55027.0      Dodge       Wisconsin             US   \n776 2020-07-12 00:00:01  13091.0      Dodge         Georgia             US   \n777 2020-07-12 00:00:01  27039.0      Dodge       Minnesota             US   \n778 2020-07-12 00:00:01  31053.0      Dodge        Nebraska             US   \n779 2020-07-12 00:00:01  55027.0      Dodge       Wisconsin             US   \n\n             Last_Update        Lat      Long_  Confirmed  Deaths  Recovered  \\\n820        3/22/20 23:45  34.223334 -82.461707        1.0     0.0          0   \n0    2020-03-23 23:19:34  34.223334 -82.461707        0.0     0.0          0   \n0    2020-03-24 23:37:31  34.223334 -82.461707        0.0     0.0          0   \n0    2020-03-25 23:33:19  34.223334 -82.461707        2.0     0.0          0   \n0    2020-03-26 23:48:35  34.223334 -82.461707        0.0     0.0          0   \n..                   ...        ...        ...        ...     ...        ...   \n779  2020-07-12 04:34:30  43.415767 -88.709282     -198.0    -3.0          0   \n776  2020-07-13 04:43:04  32.172651 -83.169489     -370.0    -3.0          0   \n777  2020-07-13 04:43:04  44.022384 -92.862443      -44.0    -2.0          0   \n778  2020-07-13 04:43:04  41.580717 -96.655982      612.0     8.0          0   \n779  2020-07-13 04:43:04  43.415767 -88.709282     -194.0    -3.0          0   \n\n     Active                   Combined_Key  Incidence_Rate  \\\n820     0.0  Abbeville, South Carolina, US             NaN   \n0       0.0  Abbeville, South Carolina, US             NaN   \n0       0.0  Abbeville, South Carolina, US             NaN   \n0       0.0  Abbeville, South Carolina, US             NaN   \n0       0.0  Abbeville, South Carolina, US             NaN   \n..      ...                            ...             ...   \n779   506.0           Dodge, Wisconsin, US      581.746149   \n776   139.0             Dodge, Georgia, US      684.299927   \n777    97.0           Dodge, Minnesota, US      463.361039   \n778   701.0            Dodge, Nebraska, US     1939.012717   \n779   510.0           Dodge, Wisconsin, US      586.299935   \n\n     Case-Fatality_Ratio  \n820                  NaN  \n0                    NaN  \n0                    NaN  \n0                    NaN  \n0                    NaN  \n..                   ...  \n779             0.978474  \n776             1.418440  \n777             0.000000  \n778             1.128350  \n779             0.970874  \n\n[155700 rows x 15 columns]\n"
     ]
    }
   ],
   "source": [
    "df1 = pd.read_pickle(\"../../df1.pkl\")\n",
    "df2 = pd.read_pickle(\"../../df2.pkl\")\n",
    "df3 = pd.read_pickle(\"../../df3.pkl\")\n",
    "df4 = pd.read_pickle(\"../../df4.pkl\")\n",
    "\n",
    "df_combined = pd.concat([df1, df2, df3, df4])\n",
    "df_combined = df_combined.sort_values(by='date')\n",
    "df_combined[\"date\"] = df_combined[\"date\"] + \" 00:00:01\"\n",
    "df_combined[\"date\"] = pd.to_datetime(df_combined[\"date\"])\n",
    "print(df_combined)\n",
    "df_combined.to_csv(\"../../data/hopkins_data/df_new.csv\")"
   ]
  },
  {
   "cell_type": "code",
   "execution_count": null,
   "metadata": {},
   "outputs": [],
   "source": []
  }
 ]
}