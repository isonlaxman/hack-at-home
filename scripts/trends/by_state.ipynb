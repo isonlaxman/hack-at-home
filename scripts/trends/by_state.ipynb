{
 "metadata": {
  "language_info": {
   "codemirror_mode": {
    "name": "ipython",
    "version": 3
   },
   "file_extension": ".py",
   "mimetype": "text/x-python",
   "name": "python",
   "nbconvert_exporter": "python",
   "pygments_lexer": "ipython3",
   "version": "3.8.2-final"
  },
  "orig_nbformat": 2,
  "kernelspec": {
   "name": "Python 3.8.2 64-bit ('3.8.2': conda)",
   "display_name": "Python 3.8.2 64-bit ('3.8.2': conda)",
   "metadata": {
    "interpreter": {
     "hash": "b968f9a99a52a15b1c70403e8c7a53e9f964ddd27d956b947559defaadb1c37a"
    }
   }
  }
 },
 "nbformat": 4,
 "nbformat_minor": 2,
 "cells": [
  {
   "cell_type": "code",
   "execution_count": 1,
   "metadata": {},
   "outputs": [],
   "source": [
    "from pytrends.request import TrendReq\n",
    "from addon import *\n",
    "import pandas as pd\n",
    "import time\n",
    "import pycountry"
   ]
  },
  {
   "cell_type": "code",
   "execution_count": 8,
   "metadata": {},
   "outputs": [],
   "source": [
    "\n",
    "pytrends = TrendReq(hl='en-US', tz=360)\n",
    "\n",
    "## %\n",
    "kw_list = [\"covid depression\", \"covid health insurance\", \"test sites\", \"bars near me\"]\n",
    "df = pd.DataFrame()"
   ]
  },
  {
   "cell_type": "code",
   "execution_count": 9,
   "metadata": {},
   "outputs": [],
   "source": [
    "states = [ 'AL', 'AZ', 'AR', 'CA', 'CO', 'CT', 'DE', 'DC', 'FL', 'GA', 'IL', 'IN', 'KS', 'KY', 'LA', 'MD', 'MA', 'MI', 'MN', 'MS', 'MO', 'MT', 'NE', 'NV', 'NH', 'NJ', 'NM', 'NY', 'NC', 'ND', 'OK', 'OR', 'PA', 'RI', 'SC', 'SD', 'TN', 'TX', 'VT', 'VA', 'WA', 'WV', 'WI', 'WY']"
   ]
  },
  {
   "cell_type": "code",
   "execution_count": 10,
   "metadata": {
    "tags": []
   },
   "outputs": [
    {
     "output_type": "stream",
     "name": "stdout",
     "text": [
      "AL\n",
      "AZ\n",
      "AR\n",
      "CA\n",
      "CO\n",
      "CT\n",
      "DE\n",
      "DC\n",
      "FL\n",
      "GA\n",
      "IL\n",
      "IN\n",
      "KS\n",
      "KY\n",
      "LA\n",
      "MD\n",
      "MA\n",
      "MI\n",
      "MN\n",
      "MS\n",
      "MO\n",
      "MT\n",
      "NE\n",
      "NV\n",
      "NH\n",
      "NJ\n",
      "NM\n",
      "NY\n",
      "NC\n",
      "ND\n",
      "OK\n",
      "OR\n",
      "PA\n",
      "RI\n",
      "SC\n",
      "SD\n",
      "TN\n",
      "TX\n",
      "VT\n",
      "VA\n",
      "WA\n",
      "WV\n",
      "WI\n",
      "WY\n"
     ]
    }
   ],
   "source": [
    "i = 0\n",
    "while i < len(states):\n",
    "    try:\n",
    "        pytrends.build_payload(kw_list, cat=0, timeframe='2020-03-22 2020-10-09', geo=\"US-\" + states[i], gprop='')\n",
    "        \n",
    "        state_df = pytrends.interest_over_time()\n",
    "        state_df[\"State\"] = states[i]\n",
    "        \n",
    "        df = pd.concat([df, state_df])\n",
    "        time.sleep(.1)\n",
    "\n",
    "        print(states[i])\n",
    "        i += 1\n",
    "\n",
    "        time.sleep(3)\n",
    "    except Exception as e:\n",
    "        i -= 1\n",
    "        time.sleep(5)\n",
    "        print(e)\n"
   ]
  },
  {
   "cell_type": "code",
   "execution_count": 11,
   "metadata": {},
   "outputs": [],
   "source": [
    "df.to_csv(\"../../data/trends/final_data/USA_statewise_4.csv\")"
   ]
  },
  {
   "cell_type": "code",
   "execution_count": 38,
   "metadata": {},
   "outputs": [
    {
     "output_type": "stream",
     "name": "stdout",
     "text": [
      "                    date     FIPS   Admin2   Province_State Country_Region  \\\n75   2020-03-22 00:00:01  34003.0   Bergen       New Jersey             US   \n2875 2020-03-22 00:00:01  48353.0    Nolan            Texas             US   \n1103 2020-03-22 00:00:01  16081.0    Teton            Idaho             US   \n2804 2020-03-22 00:00:01  48169.0    Garza            Texas             US   \n1043 2020-03-22 00:00:01  40049.0   Garvin         Oklahoma             US   \n...                  ...      ...      ...              ...            ...   \n233  2020-10-09 00:00:01      NaN      NaN              NaN        Iceland   \n512  2020-10-09 00:00:01      NaN      NaN    Kurgan Oblast         Russia   \n1081 2020-10-09 00:00:01  13109.0    Evans          Georgia             US   \n3044 2020-10-09 00:00:01  72103.0  Naguabo      Puerto Rico             US   \n477  2020-10-09 00:00:01      NaN      NaN  Adygea Republic         Russia   \n\n              Last_Update        Lat       Long_  Confirmed  Deaths  \\\n75          3/22/20 23:45  40.960109  -74.071643        457       6   \n2875        3/22/20 23:45  32.303653 -100.406021          0       0   \n1103        3/22/20 23:45  43.753036 -111.205677          2       0   \n2804        3/22/20 23:45  33.179693 -101.298411          0       0   \n1043        3/22/20 23:45  34.704180  -97.308111          2       0   \n...                   ...        ...         ...        ...     ...   \n233   2020-10-10 04:23:57  64.963100  -19.020800        106       0   \n512   2020-10-10 04:23:57  55.765530   64.563268         61       2   \n1081  2020-10-10 04:23:57  32.153288  -81.887011          3       0   \n3044  2020-10-10 04:23:57  18.230637  -65.753897          6       0   \n477   2020-10-10 04:23:57  44.693901   40.152042         42       0   \n\n      Recovered  Active              Combined_Key  Incidence_Rate  \\\n75            0     0.0    Bergen, New Jersey, US             NaN   \n2875          0     0.0          Nolan, Texas, US             NaN   \n1103          0     0.0          Teton, Idaho, US             NaN   \n2804          0     0.0          Garza, Texas, US             NaN   \n1043          0     0.0      Garvin, Oklahoma, US             NaN   \n...         ...     ...                       ...             ...   \n233        2448   915.0                   Iceland      988.424908   \n512        3632   566.0     Kurgan Oblast, Russia      501.338203   \n1081          0   433.0        Evans, Georgia, US     4120.518115   \n3044          0   277.0  Naguabo, Puerto Rico, US     1036.676647   \n477        3710   688.0   Adygea Republic, Russia      977.996189   \n\n      Case-Fatality_Ratio  \n75                    NaN  \n2875                  NaN  \n1103                  NaN  \n2804                  NaN  \n1043                  NaN  \n...                   ...  \n233              0.296472  \n512              0.967209  \n1081             1.366743  \n3044             0.000000  \n477              0.811908  \n\n[733488 rows x 15 columns]\n"
     ]
    }
   ],
   "source": [
    "df1 = pd.read_pickle(\"../../df1.pkl\")\n",
    "df2 = pd.read_pickle(\"../../df2.pkl\")\n",
    "df3 = pd.read_pickle(\"../../df3.pkl\")\n",
    "df4 = pd.read_pickle(\"../../df4.pkl\")\n",
    "\n",
    "df_combined = pd.concat([df1, df2, df3, df4])\n",
    "df_combined = df_combined.sort_values(by='date')\n",
    "df_combined[\"date\"] = df_combined[\"date\"] + \" 00:00:01\"\n",
    "df_combined[\"date\"] = pd.to_datetime(df_combined[\"date\"])\n",
    "print(df_combined)\n",
    "df_combined.to_csv(\"../../data/hopkins_data/df_new_2.csv\")"
   ]
  },
  {
   "cell_type": "code",
   "execution_count": 47,
   "metadata": {},
   "outputs": [
    {
     "output_type": "stream",
     "name": "stdout",
     "text": [
      "STATE               int64\nCOUNTY              int64\nSTNAME             object\nCTYNAME            object\nPOPESTIMATE2019     int64\nFIPS                int64\ndtype: object\ndate                   datetime64[ns]\nFIPS                            int64\nAdmin2                         object\nProvince_State                 object\nCountry_Region                 object\nLast_Update                    object\nLat                           float64\nLong_                         float64\nConfirmed                       int64\nDeaths                          int64\nRecovered                       int64\nActive                        float64\nCombined_Key                   object\nIncidence_Rate                float64\nCase-Fatality_Ratio           float64\ndtype: object\n"
     ]
    }
   ],
   "source": [
    "pop_df = pd.read_csv(\"../../data/co-est2019-alldata.csv\", encoding='latin-1')\n",
    "df_combined = df_combined.dropna(subset=[\"FIPS\", \"Lat\"])\n",
    "df_combined[\"FIPS\"] = df_combined[\"FIPS\"].astype('int64')\n",
    "print(pop_df.dtypes)\n",
    "print(df_combined.dtypes)"
   ]
  },
  {
   "cell_type": "code",
   "execution_count": 52,
   "metadata": {},
   "outputs": [],
   "source": [
    "df_final = pd.merge(df_combined, pop_df, how=\"outer\", on=['FIPS'])\n",
    "df_final[\"Confirmed\"] = df_final[\"Confirmed\"] / df_final[\"POPESTIMATE2019\"] * 100000\n",
    "df_final[\"Deaths\"] = df_final[\"Deaths\"] / df_final[\"POPESTIMATE2019\"] * 100000\n",
    "df_final.to_csv(\"../../data/hopkins_data/hopkins_population.csv\")"
   ]
  },
  {
   "cell_type": "code",
   "execution_count": null,
   "metadata": {},
   "outputs": [],
   "source": []
  }
 ]
}