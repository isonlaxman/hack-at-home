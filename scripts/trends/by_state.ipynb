{
 "metadata": {
  "language_info": {
   "codemirror_mode": {
    "name": "ipython",
    "version": 3
   },
   "file_extension": ".py",
   "mimetype": "text/x-python",
   "name": "python",
   "nbconvert_exporter": "python",
   "pygments_lexer": "ipython3",
   "version": "3.8.2-final"
  },
  "orig_nbformat": 2,
  "kernelspec": {
   "name": "Python 3.8.2 64-bit ('3.8.2': conda)",
   "display_name": "Python 3.8.2 64-bit ('3.8.2': conda)",
   "metadata": {
    "interpreter": {
     "hash": "b968f9a99a52a15b1c70403e8c7a53e9f964ddd27d956b947559defaadb1c37a"
    }
   }
  }
 },
 "nbformat": 4,
 "nbformat_minor": 2,
 "cells": [
  {
   "cell_type": "code",
   "execution_count": 1,
   "metadata": {},
   "outputs": [],
   "source": [
    "from pytrends.request import TrendReq\n",
    "from addon import *\n",
    "import pandas as pd\n",
    "import time\n",
    "import pycountry"
   ]
  },
  {
   "cell_type": "code",
   "execution_count": 2,
   "metadata": {},
   "outputs": [],
   "source": [
    "\n",
    "pytrends = TrendReq(hl='en-US', tz=360)\n",
    "\n",
    "## %\n",
    "kw_list = [\"covid symptoms\"]\n",
    "df = pd.DataFrame()"
   ]
  },
  {
   "cell_type": "code",
   "execution_count": 3,
   "metadata": {},
   "outputs": [],
   "source": [
    "states = [ 'AL', 'AZ', 'AR', 'CA', 'CO', 'CT', 'DE', 'DC', 'FL', 'GA', 'IL', 'IN', 'KS', 'KY', 'LA', 'MD', 'MA', 'MI', 'MN', 'MS', 'MO', 'MT', 'NE', 'NV', 'NH', 'NJ', 'NM', 'NY', 'NC', 'ND', 'OK', 'OR', 'PA', 'RI', 'SC', 'SD', 'TN', 'TX', 'VT', 'VA', 'WA', 'WV', 'WI', 'WY']"
   ]
  },
  {
   "cell_type": "code",
   "execution_count": 4,
   "metadata": {},
   "outputs": [
    {
     "output_type": "stream",
     "name": "stdout",
     "text": [
      "AL\n",
      "AZ\n",
      "AR\n",
      "CA\n",
      "CO\n",
      "CT\n",
      "DE\n",
      "DC\n",
      "FL\n",
      "GA\n",
      "IL\n",
      "IN\n",
      "KS\n",
      "KY\n",
      "LA\n",
      "MD\n",
      "MA\n",
      "MI\n",
      "MN\n",
      "MS\n",
      "MO\n",
      "MT\n",
      "NE\n",
      "NV\n",
      "NH\n",
      "NJ\n",
      "NM\n",
      "NY\n",
      "NC\n",
      "ND\n",
      "OK\n",
      "OR\n",
      "PA\n",
      "RI\n",
      "SC\n",
      "SD\n",
      "TN\n",
      "TX\n",
      "VT\n",
      "VA\n",
      "WA\n",
      "WV\n",
      "WI\n",
      "WY\n"
     ]
    }
   ],
   "source": [
    "i = 0\n",
    "while i < len(states):\n",
    "    try:\n",
    "        pytrends.build_payload(kw_list, cat=0, timeframe='2020-03-22 2020-10-09', geo=\"US-\" + states[i], gprop='')\n",
    "        \n",
    "        state_df = pytrends.interest_over_time()\n",
    "        state_df[\"State\"] = states[i]\n",
    "        \n",
    "        df = pd.concat([df, state_df])\n",
    "        time.sleep(3)\n",
    "\n",
    "        print(states[i])\n",
    "        i += 1\n",
    "\n",
    "        time.sleep(3)\n",
    "    except Exception as e:\n",
    "        i -= 1\n",
    "        time.sleep(5)\n",
    "        print(e)\n"
   ]
  },
  {
   "cell_type": "code",
   "execution_count": 5,
   "metadata": {},
   "outputs": [],
   "source": [
    "df.to_csv(\"../../data/trends/USA_statewise.csv\")"
   ]
  },
  {
   "cell_type": "code",
   "execution_count": null,
   "metadata": {},
   "outputs": [],
   "source": []
  }
 ]
}