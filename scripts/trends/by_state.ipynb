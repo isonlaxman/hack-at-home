{
 "metadata": {
  "language_info": {
   "codemirror_mode": {
    "name": "ipython",
    "version": 3
   },
   "file_extension": ".py",
   "mimetype": "text/x-python",
   "name": "python",
   "nbconvert_exporter": "python",
   "pygments_lexer": "ipython3",
   "version": "3.8.2-final"
  },
  "orig_nbformat": 2,
  "kernelspec": {
   "name": "Python 3.8.2 64-bit ('3.8.2': conda)",
   "display_name": "Python 3.8.2 64-bit ('3.8.2': conda)",
   "metadata": {
    "interpreter": {
     "hash": "b968f9a99a52a15b1c70403e8c7a53e9f964ddd27d956b947559defaadb1c37a"
    }
   }
  }
 },
 "nbformat": 4,
 "nbformat_minor": 2,
 "cells": [
  {
   "cell_type": "code",
   "execution_count": 1,
   "metadata": {},
   "outputs": [],
   "source": [
    "from pytrends.request import TrendReq\n",
    "from addon import *\n",
    "import pandas as pd\n",
    "import time\n",
    "import pycountry"
   ]
  },
  {
   "cell_type": "code",
   "execution_count": 26,
   "metadata": {},
   "outputs": [],
   "source": [
    "\n",
    "pytrends = TrendReq(hl='en-US', tz=360)\n",
    "\n",
    "## %\n",
    "kw_list = [\"how do i know if i have covid\"]\n",
    "df = pd.DataFrame()"
   ]
  },
  {
   "cell_type": "code",
   "execution_count": 27,
   "metadata": {},
   "outputs": [],
   "source": [
    "states = [ 'AL', 'AZ', 'AR', 'CA', 'CO', 'CT', 'DE', 'DC', 'FL', 'GA', 'IL', 'IN', 'KS', 'KY', 'LA', 'MD', 'MA', 'MI', 'MN', 'MS', 'MO', 'MT', 'NE', 'NV', 'NH', 'NJ', 'NM', 'NY', 'NC', 'ND', 'OK', 'OR', 'PA', 'RI', 'SC', 'SD', 'TN', 'TX', 'VT', 'VA', 'WA', 'WV', 'WI', 'WY']"
   ]
  },
  {
   "cell_type": "code",
   "execution_count": 4,
   "metadata": {},
   "outputs": [
    {
     "output_type": "stream",
     "name": "stdout",
     "text": [
      "AL\n",
      "AZ\n",
      "AR\n",
      "CA\n",
      "CO\n",
      "CT\n",
      "DE\n",
      "DC\n",
      "FL\n",
      "GA\n",
      "IL\n",
      "IN\n",
      "KS\n",
      "KY\n",
      "LA\n",
      "MD\n",
      "MA\n",
      "MI\n",
      "MN\n",
      "MS\n",
      "MO\n",
      "MT\n",
      "NE\n",
      "NV\n",
      "NH\n",
      "NJ\n",
      "NM\n",
      "NY\n",
      "NC\n",
      "ND\n",
      "OK\n",
      "OR\n",
      "PA\n",
      "RI\n",
      "SC\n",
      "SD\n",
      "TN\n",
      "TX\n",
      "VT\n",
      "VA\n",
      "WA\n",
      "WV\n",
      "WI\n",
      "WY\n"
     ]
    }
   ],
   "source": [
    "i = 0\n",
    "while i < len(states):\n",
    "    try:\n",
    "        pytrends.build_payload(kw_list, cat=0, timeframe='2020-03-22 2020-10-09', geo=\"US-\" + states[i], gprop='')\n",
    "        \n",
    "        state_df = pytrends.interest_over_time()\n",
    "        state_df[\"State\"] = states[i]\n",
    "        \n",
    "        df = pd.concat([df, state_df])\n",
    "        time.sleep(3)\n",
    "\n",
    "        print(states[i])\n",
    "        i += 1\n",
    "\n",
    "        time.sleep(3)\n",
    "    except Exception as e:\n",
    "        i -= 1\n",
    "        time.sleep(5)\n",
    "        print(e)\n"
   ]
  },
  {
   "cell_type": "code",
   "execution_count": 6,
   "metadata": {},
   "outputs": [],
   "source": [
    "df.to_csv(\"../../data/trends/USA_statewise_2.csv\")"
   ]
  },
  {
   "cell_type": "code",
   "execution_count": 25,
   "metadata": {},
   "outputs": [
    {
     "output_type": "stream",
     "name": "stdout",
     "text": [
      "                       0     FIPS         Admin2 Province_State  \\\n0    2020-03-22 00:00:01  36061.0  New York City       New York   \n1    2020-03-22 00:00:01  36059.0         Nassau       New York   \n2    2020-03-22 00:00:01  36119.0    Westchester       New York   \n3    2020-03-22 00:00:01  36103.0        Suffolk       New York   \n4    2020-03-22 00:00:01  36087.0       Rockland       New York   \n...                  ...      ...            ...            ...   \n2595 2020-05-19 00:00:01  48445.0          Terry          Texas   \n2596 2020-05-19 00:00:01  16081.0          Teton          Idaho   \n2597 2020-05-19 00:00:01  56039.0          Teton        Wyoming   \n2598 2020-05-19 00:00:01  29215.0          Texas       Missouri   \n2599 2020-05-19 00:00:01  40139.0          Texas       Oklahoma   \n\n     Country_Region          Last_Update        Lat       Long_  Confirmed  \\\n0                US        3/22/20 23:45  40.767273  -73.971526       9654   \n1                US        3/22/20 23:45  40.740665  -73.589419       1900   \n2                US        3/22/20 23:45  41.162784  -73.757417       1873   \n3                US        3/22/20 23:45  40.883201  -72.801217       1034   \n4                US        3/22/20 23:45  41.150279  -74.025605        455   \n...             ...                  ...        ...         ...        ...   \n2595             US  2020-05-20 02:32:19  33.174028 -102.335452         13   \n2596             US  2020-05-20 02:32:19  43.753036 -111.205677         11   \n2597             US  2020-05-20 02:32:19  43.935225 -110.589080        100   \n2598             US  2020-05-20 02:32:19  37.317289  -91.965647          0   \n2599             US  2020-05-20 02:32:19  36.747776 -101.488977        784   \n\n      Deaths  Recovered  Active                 Combined_Key  Incidence_Rate  \\\n0         63          0     0.0  New York City, New York, US             NaN   \n1          4          0     0.0         Nassau, New York, US             NaN   \n2          0          0     0.0    Westchester, New York, US             NaN   \n3          9          0     0.0        Suffolk, New York, US             NaN   \n4          1          0     0.0       Rockland, New York, US             NaN   \n...      ...        ...     ...                          ...             ...   \n2595       0          0    13.0             Terry, Texas, US             NaN   \n2596       0          0    11.0             Teton, Idaho, US             NaN   \n2597       0          0   100.0           Teton, Wyoming, US             NaN   \n2598       0          0     0.0          Texas, Missouri, US             NaN   \n2599       4          0   780.0          Texas, Oklahoma, US             NaN   \n\n      Case-Fatality_Ratio  \n0                     NaN  \n1                     NaN  \n2                     NaN  \n3                     NaN  \n4                     NaN  \n...                   ...  \n2595                  NaN  \n2596                  NaN  \n2597                  NaN  \n2598                  NaN  \n2599                  NaN  \n\n[183372 rows x 15 columns]\n"
     ]
    }
   ],
   "source": [
    "df1 = pd.read_pickle(\"../../data/hopkins_data/df1.pkl\")\n",
    "df1.columns\n",
    "df1[0] = df1[0] + \" 00:00:01\"\n",
    "df1[0] = pd.to_datetime(df1[0])\n",
    "print(df1)\n",
    "df1.to_csv(\"../../data/hopkins_data/df1.csv\")"
   ]
  },
  {
   "cell_type": "code",
   "execution_count": null,
   "metadata": {},
   "outputs": [],
   "source": []
  }
 ]
}