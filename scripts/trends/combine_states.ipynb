{
 "metadata": {
  "language_info": {
   "codemirror_mode": {
    "name": "ipython",
    "version": 3
   },
   "file_extension": ".py",
   "mimetype": "text/x-python",
   "name": "python",
   "nbconvert_exporter": "python",
   "pygments_lexer": "ipython3",
   "version": "3.8.2-final"
  },
  "orig_nbformat": 2,
  "kernelspec": {
   "name": "Python 3.8.2 64-bit ('3.8.2': conda)",
   "display_name": "Python 3.8.2 64-bit ('3.8.2': conda)",
   "metadata": {
    "interpreter": {
     "hash": "b968f9a99a52a15b1c70403e8c7a53e9f964ddd27d956b947559defaadb1c37a"
    }
   }
  }
 },
 "nbformat": 4,
 "nbformat_minor": 2,
 "cells": [
  {
   "cell_type": "code",
   "execution_count": 1,
   "metadata": {},
   "outputs": [],
   "source": [
    "import pandas as pd\n"
   ]
  },
  {
   "cell_type": "code",
   "execution_count": 2,
   "metadata": {},
   "outputs": [],
   "source": [
    "df1 = pd.read_csv(\"../../data/trends/final_data/USA_statewise.csv\")\n",
    "df2 = pd.read_csv(\"../../data/trends/final_data/USA_statewise_2.csv\")"
   ]
  },
  {
   "cell_type": "code",
   "execution_count": 3,
   "metadata": {},
   "outputs": [
    {
     "output_type": "execute_result",
     "data": {
      "text/plain": [
       "            date  do i have covid  isPartial State\n",
       "0     2020-03-22                0      False    AL\n",
       "1     2020-03-23                0      False    AL\n",
       "2     2020-03-24                0      False    AL\n",
       "3     2020-03-25                0      False    AL\n",
       "4     2020-03-26               33      False    AL\n",
       "...          ...              ...        ...   ...\n",
       "8795  2020-10-03                0      False    WY\n",
       "8796  2020-10-04                0      False    WY\n",
       "8797  2020-10-05                0      False    WY\n",
       "8798  2020-10-06                0      False    WY\n",
       "8799  2020-10-07                0      False    WY\n",
       "\n",
       "[8800 rows x 4 columns]"
      ],
      "text/html": "<div>\n<style scoped>\n    .dataframe tbody tr th:only-of-type {\n        vertical-align: middle;\n    }\n\n    .dataframe tbody tr th {\n        vertical-align: top;\n    }\n\n    .dataframe thead th {\n        text-align: right;\n    }\n</style>\n<table border=\"1\" class=\"dataframe\">\n  <thead>\n    <tr style=\"text-align: right;\">\n      <th></th>\n      <th>date</th>\n      <th>do i have covid</th>\n      <th>isPartial</th>\n      <th>State</th>\n    </tr>\n  </thead>\n  <tbody>\n    <tr>\n      <th>0</th>\n      <td>2020-03-22</td>\n      <td>0</td>\n      <td>False</td>\n      <td>AL</td>\n    </tr>\n    <tr>\n      <th>1</th>\n      <td>2020-03-23</td>\n      <td>0</td>\n      <td>False</td>\n      <td>AL</td>\n    </tr>\n    <tr>\n      <th>2</th>\n      <td>2020-03-24</td>\n      <td>0</td>\n      <td>False</td>\n      <td>AL</td>\n    </tr>\n    <tr>\n      <th>3</th>\n      <td>2020-03-25</td>\n      <td>0</td>\n      <td>False</td>\n      <td>AL</td>\n    </tr>\n    <tr>\n      <th>4</th>\n      <td>2020-03-26</td>\n      <td>33</td>\n      <td>False</td>\n      <td>AL</td>\n    </tr>\n    <tr>\n      <th>...</th>\n      <td>...</td>\n      <td>...</td>\n      <td>...</td>\n      <td>...</td>\n    </tr>\n    <tr>\n      <th>8795</th>\n      <td>2020-10-03</td>\n      <td>0</td>\n      <td>False</td>\n      <td>WY</td>\n    </tr>\n    <tr>\n      <th>8796</th>\n      <td>2020-10-04</td>\n      <td>0</td>\n      <td>False</td>\n      <td>WY</td>\n    </tr>\n    <tr>\n      <th>8797</th>\n      <td>2020-10-05</td>\n      <td>0</td>\n      <td>False</td>\n      <td>WY</td>\n    </tr>\n    <tr>\n      <th>8798</th>\n      <td>2020-10-06</td>\n      <td>0</td>\n      <td>False</td>\n      <td>WY</td>\n    </tr>\n    <tr>\n      <th>8799</th>\n      <td>2020-10-07</td>\n      <td>0</td>\n      <td>False</td>\n      <td>WY</td>\n    </tr>\n  </tbody>\n</table>\n<p>8800 rows × 4 columns</p>\n</div>"
     },
     "metadata": {},
     "execution_count": 3
    }
   ],
   "source": [
    "df2"
   ]
  },
  {
   "cell_type": "code",
   "execution_count": 4,
   "metadata": {},
   "outputs": [
    {
     "output_type": "execute_result",
     "data": {
      "text/plain": [
       "            date        date State State  covid symptoms  do i have covid\n",
       "0     2020-03-22  2020-03-22    AL    AL              44                0\n",
       "1     2020-03-23  2020-03-23    AL    AL              41                0\n",
       "2     2020-03-24  2020-03-24    AL    AL              43                0\n",
       "3     2020-03-25  2020-03-25    AL    AL              47                0\n",
       "4     2020-03-26  2020-03-26    AL    AL              42               33\n",
       "...          ...         ...   ...   ...             ...              ...\n",
       "8795  2020-10-03  2020-10-03    WY    WY              38                0\n",
       "8796  2020-10-04  2020-10-04    WY    WY              66                0\n",
       "8797  2020-10-05  2020-10-05    WY    WY              33                0\n",
       "8798  2020-10-06  2020-10-06    WY    WY              24                0\n",
       "8799  2020-10-07  2020-10-07    WY    WY              17                0\n",
       "\n",
       "[8800 rows x 6 columns]"
      ],
      "text/html": "<div>\n<style scoped>\n    .dataframe tbody tr th:only-of-type {\n        vertical-align: middle;\n    }\n\n    .dataframe tbody tr th {\n        vertical-align: top;\n    }\n\n    .dataframe thead th {\n        text-align: right;\n    }\n</style>\n<table border=\"1\" class=\"dataframe\">\n  <thead>\n    <tr style=\"text-align: right;\">\n      <th></th>\n      <th>date</th>\n      <th>date</th>\n      <th>State</th>\n      <th>State</th>\n      <th>covid symptoms</th>\n      <th>do i have covid</th>\n    </tr>\n  </thead>\n  <tbody>\n    <tr>\n      <th>0</th>\n      <td>2020-03-22</td>\n      <td>2020-03-22</td>\n      <td>AL</td>\n      <td>AL</td>\n      <td>44</td>\n      <td>0</td>\n    </tr>\n    <tr>\n      <th>1</th>\n      <td>2020-03-23</td>\n      <td>2020-03-23</td>\n      <td>AL</td>\n      <td>AL</td>\n      <td>41</td>\n      <td>0</td>\n    </tr>\n    <tr>\n      <th>2</th>\n      <td>2020-03-24</td>\n      <td>2020-03-24</td>\n      <td>AL</td>\n      <td>AL</td>\n      <td>43</td>\n      <td>0</td>\n    </tr>\n    <tr>\n      <th>3</th>\n      <td>2020-03-25</td>\n      <td>2020-03-25</td>\n      <td>AL</td>\n      <td>AL</td>\n      <td>47</td>\n      <td>0</td>\n    </tr>\n    <tr>\n      <th>4</th>\n      <td>2020-03-26</td>\n      <td>2020-03-26</td>\n      <td>AL</td>\n      <td>AL</td>\n      <td>42</td>\n      <td>33</td>\n    </tr>\n    <tr>\n      <th>...</th>\n      <td>...</td>\n      <td>...</td>\n      <td>...</td>\n      <td>...</td>\n      <td>...</td>\n      <td>...</td>\n    </tr>\n    <tr>\n      <th>8795</th>\n      <td>2020-10-03</td>\n      <td>2020-10-03</td>\n      <td>WY</td>\n      <td>WY</td>\n      <td>38</td>\n      <td>0</td>\n    </tr>\n    <tr>\n      <th>8796</th>\n      <td>2020-10-04</td>\n      <td>2020-10-04</td>\n      <td>WY</td>\n      <td>WY</td>\n      <td>66</td>\n      <td>0</td>\n    </tr>\n    <tr>\n      <th>8797</th>\n      <td>2020-10-05</td>\n      <td>2020-10-05</td>\n      <td>WY</td>\n      <td>WY</td>\n      <td>33</td>\n      <td>0</td>\n    </tr>\n    <tr>\n      <th>8798</th>\n      <td>2020-10-06</td>\n      <td>2020-10-06</td>\n      <td>WY</td>\n      <td>WY</td>\n      <td>24</td>\n      <td>0</td>\n    </tr>\n    <tr>\n      <th>8799</th>\n      <td>2020-10-07</td>\n      <td>2020-10-07</td>\n      <td>WY</td>\n      <td>WY</td>\n      <td>17</td>\n      <td>0</td>\n    </tr>\n  </tbody>\n</table>\n<p>8800 rows × 6 columns</p>\n</div>"
     },
     "metadata": {},
     "execution_count": 4
    }
   ],
   "source": [
    "trends_df = pd.concat([df1,df2], join='inner', axis = 1)\n",
    "trends_df = trends_df[['date', 'State', 'covid symptoms', 'do i have covid']]\n",
    "trends_df"
   ]
  },
  {
   "cell_type": "code",
   "execution_count": 5,
   "metadata": {},
   "outputs": [],
   "source": [
    "trends_df.to_csv(\"../../data/trends/final_data/USA_statewise_final.csv\")"
   ]
  },
  {
   "cell_type": "code",
   "execution_count": null,
   "metadata": {},
   "outputs": [],
   "source": []
  }
 ]
}