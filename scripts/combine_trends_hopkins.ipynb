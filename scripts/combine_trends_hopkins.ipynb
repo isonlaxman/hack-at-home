{
 "metadata": {
  "language_info": {
   "codemirror_mode": {
    "name": "ipython",
    "version": 3
   },
   "file_extension": ".py",
   "mimetype": "text/x-python",
   "name": "python",
   "nbconvert_exporter": "python",
   "pygments_lexer": "ipython3",
   "version": "3.8.2-final"
  },
  "orig_nbformat": 2,
  "kernelspec": {
   "name": "Python 3.8.2 64-bit ('3.8.2': conda)",
   "display_name": "Python 3.8.2 64-bit ('3.8.2': conda)",
   "metadata": {
    "interpreter": {
     "hash": "b968f9a99a52a15b1c70403e8c7a53e9f964ddd27d956b947559defaadb1c37a"
    }
   }
  }
 },
 "nbformat": 4,
 "nbformat_minor": 2,
 "cells": [
  {
   "cell_type": "code",
   "execution_count": 1,
   "metadata": {},
   "outputs": [],
   "source": [
    "import pandas as pd"
   ]
  },
  {
   "cell_type": "code",
   "execution_count": 89,
   "metadata": {},
   "outputs": [],
   "source": [
    "trends_df = pd.read_csv(\"../data/trends/final_data/USA_statewise_final.csv\").drop([\"date.1\", \"State.1\", \"Unnamed: 0\"], axis=1)\n",
    "hopkins_df = pd.read_csv(\"../data/hopkins_data/hopkins_population.csv\")"
   ]
  },
  {
   "cell_type": "code",
   "execution_count": 90,
   "metadata": {},
   "outputs": [],
   "source": [
    "states = {\n",
    "        'AK': 'Alaska',\n",
    "        'AL': 'Alabama',\n",
    "        'AR': 'Arkansas',\n",
    "        'AS': 'American Samoa',\n",
    "        'AZ': 'Arizona',\n",
    "        'CA': 'California',\n",
    "        'CO': 'Colorado',\n",
    "        'CT': 'Connecticut',\n",
    "        'DC': 'District of Columbia',\n",
    "        'DE': 'Delaware',\n",
    "        'FL': 'Florida',\n",
    "        'GA': 'Georgia',\n",
    "        'GU': 'Guam',\n",
    "        'HI': 'Hawaii',\n",
    "        'IA': 'Iowa',\n",
    "        'ID': 'Idaho',\n",
    "        'IL': 'Illinois',\n",
    "        'IN': 'Indiana',\n",
    "        'KS': 'Kansas',\n",
    "        'KY': 'Kentucky',\n",
    "        'LA': 'Louisiana',\n",
    "        'MA': 'Massachusetts',\n",
    "        'MD': 'Maryland',\n",
    "        'ME': 'Maine',\n",
    "        'MI': 'Michigan',\n",
    "        'MN': 'Minnesota',\n",
    "        'MO': 'Missouri',\n",
    "        'MP': 'Northern Mariana Islands',\n",
    "        'MS': 'Mississippi',\n",
    "        'MT': 'Montana',\n",
    "        'NA': 'National',\n",
    "        'NC': 'North Carolina',\n",
    "        'ND': 'North Dakota',\n",
    "        'NE': 'Nebraska',\n",
    "        'NH': 'New Hampshire',\n",
    "        'NJ': 'New Jersey',\n",
    "        'NM': 'New Mexico',\n",
    "        'NV': 'Nevada',\n",
    "        'NY': 'New York',\n",
    "        'OH': 'Ohio',\n",
    "        'OK': 'Oklahoma',\n",
    "        'OR': 'Oregon',\n",
    "        'PA': 'Pennsylvania',\n",
    "        'PR': 'Puerto Rico',\n",
    "        'RI': 'Rhode Island',\n",
    "        'SC': 'South Carolina',\n",
    "        'SD': 'South Dakota',\n",
    "        'TN': 'Tennessee',\n",
    "        'TX': 'Texas',\n",
    "        'UT': 'Utah',\n",
    "        'VA': 'Virginia',\n",
    "        'VI': 'Virgin Islands',\n",
    "        'VT': 'Vermont',\n",
    "        'WA': 'Washington',\n",
    "        'WI': 'Wisconsin',\n",
    "        'WV': 'West Virginia',\n",
    "        'WY': 'Wyoming'\n",
    "}\n",
    "\n",
    "trends_df[\"State\"] = trends_df[\"State\"].map(states)"
   ]
  },
  {
   "cell_type": "code",
   "execution_count": 91,
   "metadata": {},
   "outputs": [],
   "source": [
    "trends_df[\"State\"] = trends_df[\"State\"].astype(str)\n",
    "trends_df[\"date\"] = pd.to_datetime(trends_df[\"date\"].astype(str) + \" 00:00:01\")\n",
    "hopkins_df[\"date\"] = pd.to_datetime(hopkins_df[\"date\"])\n",
    "hopkins_df[\"Province_State\"] = hopkins_df[\"Province_State\"].astype(str)"
   ]
  },
  {
   "cell_type": "code",
   "execution_count": 97,
   "metadata": {},
   "outputs": [],
   "source": [
    "hopkins_df = hopkins_df.drop(['Unnamed: 0', 'Last_Update', \"Active\", \"Recovered\", \"Combined_Key\", \"Incidence_Rate\", \"Case-Fatality_Ratio\"], axis=1)"
   ]
  },
  {
   "cell_type": "code",
   "execution_count": 98,
   "metadata": {},
   "outputs": [
    {
     "output_type": "stream",
     "name": "stdout",
     "text": [
      "date               datetime64[ns]\nFIPS                        int64\nAdmin2                     object\nProvince_State             object\nCountry_Region             object\nLat                       float64\nLong_                     float64\nConfirmed                 float64\nDeaths                    float64\nSTATE                     float64\nCOUNTY                    float64\nSTNAME                     object\nCTYNAME                    object\nPOPESTIMATE2019           float64\ndtype: object\ndate               datetime64[ns]\nState                      object\ncovid symptoms              int64\ndo i have covid             int64\ndtype: object\n"
     ]
    }
   ],
   "source": [
    "print(hopkins_df.dtypes)\n",
    "print(trends_df.dtypes)"
   ]
  },
  {
   "cell_type": "code",
   "execution_count": 99,
   "metadata": {},
   "outputs": [
    {
     "output_type": "execute_result",
     "data": {
      "text/plain": [
       "                      date   FIPS        Admin2  Province_State  \\\n",
       "389692 2020-03-22 00:00:01  45043    Georgetown  South Carolina   \n",
       "389693 2020-03-22 00:00:01  45041      Florence  South Carolina   \n",
       "389694 2020-03-22 00:00:01  45011      Barnwell  South Carolina   \n",
       "389695 2020-03-22 00:00:01  45077       Pickens  South Carolina   \n",
       "389696 2020-03-22 00:00:01  45049       Hampton  South Carolina   \n",
       "...                    ...    ...           ...             ...   \n",
       "398880 2020-10-07 00:00:01  45091          York  South Carolina   \n",
       "398881 2020-10-07 00:00:01  45019    Charleston  South Carolina   \n",
       "398882 2020-10-07 00:00:01  45017       Calhoun  South Carolina   \n",
       "398883 2020-10-07 00:00:01  45089  Williamsburg  South Carolina   \n",
       "398884 2020-10-07 00:00:01  45015      Berkeley  South Carolina   \n",
       "\n",
       "       Country_Region        Lat      Long_  Confirmed    Deaths  STATE  \\\n",
       "389692             US  33.434433 -79.332021   0.000000  0.000000   45.0   \n",
       "389693             US  34.023618 -79.701893   0.723102  0.723102   45.0   \n",
       "389694             US  33.266793 -81.435844   0.000000  0.000000   45.0   \n",
       "389695             US  34.888077 -82.727916   0.788121  0.000000   45.0   \n",
       "389696             US  32.774196 -81.138456   5.202372  0.000000   45.0   \n",
       "...               ...        ...        ...        ...       ...    ...   \n",
       "398880             US  34.972815 -81.180859  12.100548  0.000000   45.0   \n",
       "398881             US  32.824879 -79.965123   5.833653  0.243069   45.0   \n",
       "398882             US  33.669269 -80.777222  -6.871435  0.000000   45.0   \n",
       "398883             US  33.621901 -79.727674   3.292940  0.000000   45.0   \n",
       "398884             US  33.202226 -79.946545   7.020407  0.438775   45.0   \n",
       "\n",
       "        COUNTY          STNAME              CTYNAME  POPESTIMATE2019  \\\n",
       "389692    43.0  South Carolina    Georgetown County          62680.0   \n",
       "389693    41.0  South Carolina      Florence County         138293.0   \n",
       "389694    11.0  South Carolina      Barnwell County          20866.0   \n",
       "389695    77.0  South Carolina       Pickens County         126884.0   \n",
       "389696    49.0  South Carolina       Hampton County          19222.0   \n",
       "...        ...             ...                  ...              ...   \n",
       "398880    91.0  South Carolina          York County         280979.0   \n",
       "398881    19.0  South Carolina    Charleston County         411406.0   \n",
       "398882    17.0  South Carolina       Calhoun County          14553.0   \n",
       "398883    89.0  South Carolina  Williamsburg County          30368.0   \n",
       "398884    15.0  South Carolina      Berkeley County         227907.0   \n",
       "\n",
       "                 State  covid symptoms  do i have covid  \n",
       "389692  South Carolina              69                0  \n",
       "389693  South Carolina              69                0  \n",
       "389694  South Carolina              69                0  \n",
       "389695  South Carolina              69                0  \n",
       "389696  South Carolina              69                0  \n",
       "...                ...             ...              ...  \n",
       "398880  South Carolina              33               35  \n",
       "398881  South Carolina              33               35  \n",
       "398882  South Carolina              33               35  \n",
       "398883  South Carolina              33               35  \n",
       "398884  South Carolina              33               35  \n",
       "\n",
       "[9193 rows x 17 columns]"
      ],
      "text/html": "<div>\n<style scoped>\n    .dataframe tbody tr th:only-of-type {\n        vertical-align: middle;\n    }\n\n    .dataframe tbody tr th {\n        vertical-align: top;\n    }\n\n    .dataframe thead th {\n        text-align: right;\n    }\n</style>\n<table border=\"1\" class=\"dataframe\">\n  <thead>\n    <tr style=\"text-align: right;\">\n      <th></th>\n      <th>date</th>\n      <th>FIPS</th>\n      <th>Admin2</th>\n      <th>Province_State</th>\n      <th>Country_Region</th>\n      <th>Lat</th>\n      <th>Long_</th>\n      <th>Confirmed</th>\n      <th>Deaths</th>\n      <th>STATE</th>\n      <th>COUNTY</th>\n      <th>STNAME</th>\n      <th>CTYNAME</th>\n      <th>POPESTIMATE2019</th>\n      <th>State</th>\n      <th>covid symptoms</th>\n      <th>do i have covid</th>\n    </tr>\n  </thead>\n  <tbody>\n    <tr>\n      <th>389692</th>\n      <td>2020-03-22 00:00:01</td>\n      <td>45043</td>\n      <td>Georgetown</td>\n      <td>South Carolina</td>\n      <td>US</td>\n      <td>33.434433</td>\n      <td>-79.332021</td>\n      <td>0.000000</td>\n      <td>0.000000</td>\n      <td>45.0</td>\n      <td>43.0</td>\n      <td>South Carolina</td>\n      <td>Georgetown County</td>\n      <td>62680.0</td>\n      <td>South Carolina</td>\n      <td>69</td>\n      <td>0</td>\n    </tr>\n    <tr>\n      <th>389693</th>\n      <td>2020-03-22 00:00:01</td>\n      <td>45041</td>\n      <td>Florence</td>\n      <td>South Carolina</td>\n      <td>US</td>\n      <td>34.023618</td>\n      <td>-79.701893</td>\n      <td>0.723102</td>\n      <td>0.723102</td>\n      <td>45.0</td>\n      <td>41.0</td>\n      <td>South Carolina</td>\n      <td>Florence County</td>\n      <td>138293.0</td>\n      <td>South Carolina</td>\n      <td>69</td>\n      <td>0</td>\n    </tr>\n    <tr>\n      <th>389694</th>\n      <td>2020-03-22 00:00:01</td>\n      <td>45011</td>\n      <td>Barnwell</td>\n      <td>South Carolina</td>\n      <td>US</td>\n      <td>33.266793</td>\n      <td>-81.435844</td>\n      <td>0.000000</td>\n      <td>0.000000</td>\n      <td>45.0</td>\n      <td>11.0</td>\n      <td>South Carolina</td>\n      <td>Barnwell County</td>\n      <td>20866.0</td>\n      <td>South Carolina</td>\n      <td>69</td>\n      <td>0</td>\n    </tr>\n    <tr>\n      <th>389695</th>\n      <td>2020-03-22 00:00:01</td>\n      <td>45077</td>\n      <td>Pickens</td>\n      <td>South Carolina</td>\n      <td>US</td>\n      <td>34.888077</td>\n      <td>-82.727916</td>\n      <td>0.788121</td>\n      <td>0.000000</td>\n      <td>45.0</td>\n      <td>77.0</td>\n      <td>South Carolina</td>\n      <td>Pickens County</td>\n      <td>126884.0</td>\n      <td>South Carolina</td>\n      <td>69</td>\n      <td>0</td>\n    </tr>\n    <tr>\n      <th>389696</th>\n      <td>2020-03-22 00:00:01</td>\n      <td>45049</td>\n      <td>Hampton</td>\n      <td>South Carolina</td>\n      <td>US</td>\n      <td>32.774196</td>\n      <td>-81.138456</td>\n      <td>5.202372</td>\n      <td>0.000000</td>\n      <td>45.0</td>\n      <td>49.0</td>\n      <td>South Carolina</td>\n      <td>Hampton County</td>\n      <td>19222.0</td>\n      <td>South Carolina</td>\n      <td>69</td>\n      <td>0</td>\n    </tr>\n    <tr>\n      <th>...</th>\n      <td>...</td>\n      <td>...</td>\n      <td>...</td>\n      <td>...</td>\n      <td>...</td>\n      <td>...</td>\n      <td>...</td>\n      <td>...</td>\n      <td>...</td>\n      <td>...</td>\n      <td>...</td>\n      <td>...</td>\n      <td>...</td>\n      <td>...</td>\n      <td>...</td>\n      <td>...</td>\n      <td>...</td>\n    </tr>\n    <tr>\n      <th>398880</th>\n      <td>2020-10-07 00:00:01</td>\n      <td>45091</td>\n      <td>York</td>\n      <td>South Carolina</td>\n      <td>US</td>\n      <td>34.972815</td>\n      <td>-81.180859</td>\n      <td>12.100548</td>\n      <td>0.000000</td>\n      <td>45.0</td>\n      <td>91.0</td>\n      <td>South Carolina</td>\n      <td>York County</td>\n      <td>280979.0</td>\n      <td>South Carolina</td>\n      <td>33</td>\n      <td>35</td>\n    </tr>\n    <tr>\n      <th>398881</th>\n      <td>2020-10-07 00:00:01</td>\n      <td>45019</td>\n      <td>Charleston</td>\n      <td>South Carolina</td>\n      <td>US</td>\n      <td>32.824879</td>\n      <td>-79.965123</td>\n      <td>5.833653</td>\n      <td>0.243069</td>\n      <td>45.0</td>\n      <td>19.0</td>\n      <td>South Carolina</td>\n      <td>Charleston County</td>\n      <td>411406.0</td>\n      <td>South Carolina</td>\n      <td>33</td>\n      <td>35</td>\n    </tr>\n    <tr>\n      <th>398882</th>\n      <td>2020-10-07 00:00:01</td>\n      <td>45017</td>\n      <td>Calhoun</td>\n      <td>South Carolina</td>\n      <td>US</td>\n      <td>33.669269</td>\n      <td>-80.777222</td>\n      <td>-6.871435</td>\n      <td>0.000000</td>\n      <td>45.0</td>\n      <td>17.0</td>\n      <td>South Carolina</td>\n      <td>Calhoun County</td>\n      <td>14553.0</td>\n      <td>South Carolina</td>\n      <td>33</td>\n      <td>35</td>\n    </tr>\n    <tr>\n      <th>398883</th>\n      <td>2020-10-07 00:00:01</td>\n      <td>45089</td>\n      <td>Williamsburg</td>\n      <td>South Carolina</td>\n      <td>US</td>\n      <td>33.621901</td>\n      <td>-79.727674</td>\n      <td>3.292940</td>\n      <td>0.000000</td>\n      <td>45.0</td>\n      <td>89.0</td>\n      <td>South Carolina</td>\n      <td>Williamsburg County</td>\n      <td>30368.0</td>\n      <td>South Carolina</td>\n      <td>33</td>\n      <td>35</td>\n    </tr>\n    <tr>\n      <th>398884</th>\n      <td>2020-10-07 00:00:01</td>\n      <td>45015</td>\n      <td>Berkeley</td>\n      <td>South Carolina</td>\n      <td>US</td>\n      <td>33.202226</td>\n      <td>-79.946545</td>\n      <td>7.020407</td>\n      <td>0.438775</td>\n      <td>45.0</td>\n      <td>15.0</td>\n      <td>South Carolina</td>\n      <td>Berkeley County</td>\n      <td>227907.0</td>\n      <td>South Carolina</td>\n      <td>33</td>\n      <td>35</td>\n    </tr>\n  </tbody>\n</table>\n<p>9193 rows × 17 columns</p>\n</div>"
     },
     "metadata": {},
     "execution_count": 99
    }
   ],
   "source": [
    "combined = pd.merge(hopkins_df, trends_df, how=\"right\", right_on=['date', 'State'], left_on=['date', 'Province_State'])"
   ]
  },
  {
   "cell_type": "code",
   "execution_count": 100,
   "metadata": {},
   "outputs": [
    {
     "output_type": "error",
     "ename": "FileNotFoundError",
     "evalue": "[Errno 2] No such file or directory: '../../data/final/1.csv'",
     "traceback": [
      "\u001b[1;31m---------------------------------------------------------------------------\u001b[0m",
      "\u001b[1;31mFileNotFoundError\u001b[0m                         Traceback (most recent call last)",
      "\u001b[1;32m<ipython-input-100-a6a776055140>\u001b[0m in \u001b[0;36m<module>\u001b[1;34m\u001b[0m\n\u001b[1;32m----> 1\u001b[1;33m \u001b[0mcombined\u001b[0m\u001b[1;33m.\u001b[0m\u001b[0mto_csv\u001b[0m\u001b[1;33m(\u001b[0m\u001b[1;34m\"../../data/final/1.csv\"\u001b[0m\u001b[1;33m)\u001b[0m\u001b[1;33m\u001b[0m\u001b[1;33m\u001b[0m\u001b[0m\n\u001b[0m",
      "\u001b[1;32m~\\anaconda3\\envs\\3.8.2\\lib\\site-packages\\pandas\\core\\generic.py\u001b[0m in \u001b[0;36mto_csv\u001b[1;34m(self, path_or_buf, sep, na_rep, float_format, columns, header, index, index_label, mode, encoding, compression, quoting, quotechar, line_terminator, chunksize, date_format, doublequote, escapechar, decimal, errors)\u001b[0m\n\u001b[0;32m   3165\u001b[0m             \u001b[0mdecimal\u001b[0m\u001b[1;33m=\u001b[0m\u001b[0mdecimal\u001b[0m\u001b[1;33m,\u001b[0m\u001b[1;33m\u001b[0m\u001b[1;33m\u001b[0m\u001b[0m\n\u001b[0;32m   3166\u001b[0m         )\n\u001b[1;32m-> 3167\u001b[1;33m         \u001b[0mformatter\u001b[0m\u001b[1;33m.\u001b[0m\u001b[0msave\u001b[0m\u001b[1;33m(\u001b[0m\u001b[1;33m)\u001b[0m\u001b[1;33m\u001b[0m\u001b[1;33m\u001b[0m\u001b[0m\n\u001b[0m\u001b[0;32m   3168\u001b[0m \u001b[1;33m\u001b[0m\u001b[0m\n\u001b[0;32m   3169\u001b[0m         \u001b[1;32mif\u001b[0m \u001b[0mpath_or_buf\u001b[0m \u001b[1;32mis\u001b[0m \u001b[1;32mNone\u001b[0m\u001b[1;33m:\u001b[0m\u001b[1;33m\u001b[0m\u001b[1;33m\u001b[0m\u001b[0m\n",
      "\u001b[1;32m~\\anaconda3\\envs\\3.8.2\\lib\\site-packages\\pandas\\io\\formats\\csvs.py\u001b[0m in \u001b[0;36msave\u001b[1;34m(self)\u001b[0m\n\u001b[0;32m    183\u001b[0m             \u001b[0mclose\u001b[0m \u001b[1;33m=\u001b[0m \u001b[1;32mFalse\u001b[0m\u001b[1;33m\u001b[0m\u001b[1;33m\u001b[0m\u001b[0m\n\u001b[0;32m    184\u001b[0m         \u001b[1;32melse\u001b[0m\u001b[1;33m:\u001b[0m\u001b[1;33m\u001b[0m\u001b[1;33m\u001b[0m\u001b[0m\n\u001b[1;32m--> 185\u001b[1;33m             f, handles = get_handle(\n\u001b[0m\u001b[0;32m    186\u001b[0m                 \u001b[0mself\u001b[0m\u001b[1;33m.\u001b[0m\u001b[0mpath_or_buf\u001b[0m\u001b[1;33m,\u001b[0m\u001b[1;33m\u001b[0m\u001b[1;33m\u001b[0m\u001b[0m\n\u001b[0;32m    187\u001b[0m                 \u001b[0mself\u001b[0m\u001b[1;33m.\u001b[0m\u001b[0mmode\u001b[0m\u001b[1;33m,\u001b[0m\u001b[1;33m\u001b[0m\u001b[1;33m\u001b[0m\u001b[0m\n",
      "\u001b[1;32m~\\anaconda3\\envs\\3.8.2\\lib\\site-packages\\pandas\\io\\common.py\u001b[0m in \u001b[0;36mget_handle\u001b[1;34m(path_or_buf, mode, encoding, compression, memory_map, is_text, errors)\u001b[0m\n\u001b[0;32m    491\u001b[0m         \u001b[1;32mif\u001b[0m \u001b[0mencoding\u001b[0m\u001b[1;33m:\u001b[0m\u001b[1;33m\u001b[0m\u001b[1;33m\u001b[0m\u001b[0m\n\u001b[0;32m    492\u001b[0m             \u001b[1;31m# Encoding\u001b[0m\u001b[1;33m\u001b[0m\u001b[1;33m\u001b[0m\u001b[1;33m\u001b[0m\u001b[0m\n\u001b[1;32m--> 493\u001b[1;33m             \u001b[0mf\u001b[0m \u001b[1;33m=\u001b[0m \u001b[0mopen\u001b[0m\u001b[1;33m(\u001b[0m\u001b[0mpath_or_buf\u001b[0m\u001b[1;33m,\u001b[0m \u001b[0mmode\u001b[0m\u001b[1;33m,\u001b[0m \u001b[0mencoding\u001b[0m\u001b[1;33m=\u001b[0m\u001b[0mencoding\u001b[0m\u001b[1;33m,\u001b[0m \u001b[0merrors\u001b[0m\u001b[1;33m=\u001b[0m\u001b[0merrors\u001b[0m\u001b[1;33m,\u001b[0m \u001b[0mnewline\u001b[0m\u001b[1;33m=\u001b[0m\u001b[1;34m\"\"\u001b[0m\u001b[1;33m)\u001b[0m\u001b[1;33m\u001b[0m\u001b[1;33m\u001b[0m\u001b[0m\n\u001b[0m\u001b[0;32m    494\u001b[0m         \u001b[1;32melif\u001b[0m \u001b[0mis_text\u001b[0m\u001b[1;33m:\u001b[0m\u001b[1;33m\u001b[0m\u001b[1;33m\u001b[0m\u001b[0m\n\u001b[0;32m    495\u001b[0m             \u001b[1;31m# No explicit encoding\u001b[0m\u001b[1;33m\u001b[0m\u001b[1;33m\u001b[0m\u001b[1;33m\u001b[0m\u001b[0m\n",
      "\u001b[1;31mFileNotFoundError\u001b[0m: [Errno 2] No such file or directory: '../../data/final/1.csv'"
     ]
    }
   ],
   "source": [
    "combined.to_csv(\"final.csv\")"
   ]
  },
  {
   "source": [
    "# Lucas stuff"
   ],
   "cell_type": "markdown",
   "metadata": {}
  },
  {
   "cell_type": "code",
   "execution_count": 70,
   "metadata": {},
   "outputs": [
    {
     "output_type": "error",
     "ename": "IndexError",
     "evalue": "index 0 is out of bounds for axis 0 with size 0",
     "traceback": [
      "\u001b[1;31m---------------------------------------------------------------------------\u001b[0m",
      "\u001b[1;31mIndexError\u001b[0m                                Traceback (most recent call last)",
      "\u001b[1;32m<ipython-input-70-42dcd85b205b>\u001b[0m in \u001b[0;36m<module>\u001b[1;34m\u001b[0m\n\u001b[0;32m      1\u001b[0m \u001b[0mdf1\u001b[0m \u001b[1;33m=\u001b[0m \u001b[0mpd\u001b[0m\u001b[1;33m.\u001b[0m\u001b[0mread_pickle\u001b[0m\u001b[1;33m(\u001b[0m\u001b[1;34m\"../df1.pkl\"\u001b[0m\u001b[1;33m)\u001b[0m\u001b[1;33m\u001b[0m\u001b[1;33m\u001b[0m\u001b[0m\n\u001b[0;32m      2\u001b[0m \u001b[0mdf1\u001b[0m \u001b[1;33m=\u001b[0m \u001b[0mdf1\u001b[0m\u001b[1;33m[\u001b[0m\u001b[0mdf1\u001b[0m\u001b[1;33m[\u001b[0m\u001b[1;34m\"Admin2\"\u001b[0m\u001b[1;33m]\u001b[0m \u001b[1;33m==\u001b[0m \u001b[1;34m\"Miami\"\u001b[0m\u001b[1;33m]\u001b[0m\u001b[1;33m\u001b[0m\u001b[1;33m\u001b[0m\u001b[0m\n\u001b[1;32m----> 3\u001b[1;33m \u001b[0mdf1\u001b[0m\u001b[1;33m.\u001b[0m\u001b[0mplot\u001b[0m\u001b[1;33m.\u001b[0m\u001b[0mbar\u001b[0m\u001b[1;33m(\u001b[0m\u001b[0mx\u001b[0m\u001b[1;33m=\u001b[0m\u001b[1;34m'date'\u001b[0m\u001b[1;33m,\u001b[0m \u001b[0my\u001b[0m\u001b[1;33m=\u001b[0m\u001b[1;34m'Confirmed'\u001b[0m\u001b[1;33m)\u001b[0m\u001b[1;33m\u001b[0m\u001b[1;33m\u001b[0m\u001b[0m\n\u001b[0m",
      "\u001b[1;32m~\\anaconda3\\envs\\3.8.2\\lib\\site-packages\\pandas\\plotting\\_core.py\u001b[0m in \u001b[0;36mbar\u001b[1;34m(self, x, y, **kwargs)\u001b[0m\n\u001b[0;32m   1105\u001b[0m         \u001b[0mother\u001b[0m \u001b[0maxis\u001b[0m \u001b[0mrepresents\u001b[0m \u001b[0ma\u001b[0m \u001b[0mmeasured\u001b[0m \u001b[0mvalue\u001b[0m\u001b[1;33m.\u001b[0m\u001b[1;33m\u001b[0m\u001b[1;33m\u001b[0m\u001b[0m\n\u001b[0;32m   1106\u001b[0m         \"\"\"\n\u001b[1;32m-> 1107\u001b[1;33m         \u001b[1;32mreturn\u001b[0m \u001b[0mself\u001b[0m\u001b[1;33m(\u001b[0m\u001b[0mkind\u001b[0m\u001b[1;33m=\u001b[0m\u001b[1;34m\"bar\"\u001b[0m\u001b[1;33m,\u001b[0m \u001b[0mx\u001b[0m\u001b[1;33m=\u001b[0m\u001b[0mx\u001b[0m\u001b[1;33m,\u001b[0m \u001b[0my\u001b[0m\u001b[1;33m=\u001b[0m\u001b[0my\u001b[0m\u001b[1;33m,\u001b[0m \u001b[1;33m**\u001b[0m\u001b[0mkwargs\u001b[0m\u001b[1;33m)\u001b[0m\u001b[1;33m\u001b[0m\u001b[1;33m\u001b[0m\u001b[0m\n\u001b[0m\u001b[0;32m   1108\u001b[0m \u001b[1;33m\u001b[0m\u001b[0m\n\u001b[0;32m   1109\u001b[0m     @Appender(\n",
      "\u001b[1;32m~\\anaconda3\\envs\\3.8.2\\lib\\site-packages\\pandas\\plotting\\_core.py\u001b[0m in \u001b[0;36m__call__\u001b[1;34m(self, *args, **kwargs)\u001b[0m\n\u001b[0;32m    947\u001b[0m                     \u001b[0mdata\u001b[0m\u001b[1;33m.\u001b[0m\u001b[0mcolumns\u001b[0m \u001b[1;33m=\u001b[0m \u001b[0mlabel_name\u001b[0m\u001b[1;33m\u001b[0m\u001b[1;33m\u001b[0m\u001b[0m\n\u001b[0;32m    948\u001b[0m \u001b[1;33m\u001b[0m\u001b[0m\n\u001b[1;32m--> 949\u001b[1;33m         \u001b[1;32mreturn\u001b[0m \u001b[0mplot_backend\u001b[0m\u001b[1;33m.\u001b[0m\u001b[0mplot\u001b[0m\u001b[1;33m(\u001b[0m\u001b[0mdata\u001b[0m\u001b[1;33m,\u001b[0m \u001b[0mkind\u001b[0m\u001b[1;33m=\u001b[0m\u001b[0mkind\u001b[0m\u001b[1;33m,\u001b[0m \u001b[1;33m**\u001b[0m\u001b[0mkwargs\u001b[0m\u001b[1;33m)\u001b[0m\u001b[1;33m\u001b[0m\u001b[1;33m\u001b[0m\u001b[0m\n\u001b[0m\u001b[0;32m    950\u001b[0m \u001b[1;33m\u001b[0m\u001b[0m\n\u001b[0;32m    951\u001b[0m     \u001b[0m__call__\u001b[0m\u001b[1;33m.\u001b[0m\u001b[0m__doc__\u001b[0m \u001b[1;33m=\u001b[0m \u001b[0m__doc__\u001b[0m\u001b[1;33m\u001b[0m\u001b[1;33m\u001b[0m\u001b[0m\n",
      "\u001b[1;32m~\\anaconda3\\envs\\3.8.2\\lib\\site-packages\\pandas\\plotting\\_matplotlib\\__init__.py\u001b[0m in \u001b[0;36mplot\u001b[1;34m(data, kind, **kwargs)\u001b[0m\n\u001b[0;32m     59\u001b[0m             \u001b[0mkwargs\u001b[0m\u001b[1;33m[\u001b[0m\u001b[1;34m\"ax\"\u001b[0m\u001b[1;33m]\u001b[0m \u001b[1;33m=\u001b[0m \u001b[0mgetattr\u001b[0m\u001b[1;33m(\u001b[0m\u001b[0max\u001b[0m\u001b[1;33m,\u001b[0m \u001b[1;34m\"left_ax\"\u001b[0m\u001b[1;33m,\u001b[0m \u001b[0max\u001b[0m\u001b[1;33m)\u001b[0m\u001b[1;33m\u001b[0m\u001b[1;33m\u001b[0m\u001b[0m\n\u001b[0;32m     60\u001b[0m     \u001b[0mplot_obj\u001b[0m \u001b[1;33m=\u001b[0m \u001b[0mPLOT_CLASSES\u001b[0m\u001b[1;33m[\u001b[0m\u001b[0mkind\u001b[0m\u001b[1;33m]\u001b[0m\u001b[1;33m(\u001b[0m\u001b[0mdata\u001b[0m\u001b[1;33m,\u001b[0m \u001b[1;33m**\u001b[0m\u001b[0mkwargs\u001b[0m\u001b[1;33m)\u001b[0m\u001b[1;33m\u001b[0m\u001b[1;33m\u001b[0m\u001b[0m\n\u001b[1;32m---> 61\u001b[1;33m     \u001b[0mplot_obj\u001b[0m\u001b[1;33m.\u001b[0m\u001b[0mgenerate\u001b[0m\u001b[1;33m(\u001b[0m\u001b[1;33m)\u001b[0m\u001b[1;33m\u001b[0m\u001b[1;33m\u001b[0m\u001b[0m\n\u001b[0m\u001b[0;32m     62\u001b[0m     \u001b[0mplot_obj\u001b[0m\u001b[1;33m.\u001b[0m\u001b[0mdraw\u001b[0m\u001b[1;33m(\u001b[0m\u001b[1;33m)\u001b[0m\u001b[1;33m\u001b[0m\u001b[1;33m\u001b[0m\u001b[0m\n\u001b[0;32m     63\u001b[0m     \u001b[1;32mreturn\u001b[0m \u001b[0mplot_obj\u001b[0m\u001b[1;33m.\u001b[0m\u001b[0mresult\u001b[0m\u001b[1;33m\u001b[0m\u001b[1;33m\u001b[0m\u001b[0m\n",
      "\u001b[1;32m~\\anaconda3\\envs\\3.8.2\\lib\\site-packages\\pandas\\plotting\\_matplotlib\\core.py\u001b[0m in \u001b[0;36mgenerate\u001b[1;34m(self)\u001b[0m\n\u001b[0;32m    276\u001b[0m         \u001b[1;32mfor\u001b[0m \u001b[0max\u001b[0m \u001b[1;32min\u001b[0m \u001b[0mself\u001b[0m\u001b[1;33m.\u001b[0m\u001b[0maxes\u001b[0m\u001b[1;33m:\u001b[0m\u001b[1;33m\u001b[0m\u001b[1;33m\u001b[0m\u001b[0m\n\u001b[0;32m    277\u001b[0m             \u001b[0mself\u001b[0m\u001b[1;33m.\u001b[0m\u001b[0m_post_plot_logic_common\u001b[0m\u001b[1;33m(\u001b[0m\u001b[0max\u001b[0m\u001b[1;33m,\u001b[0m \u001b[0mself\u001b[0m\u001b[1;33m.\u001b[0m\u001b[0mdata\u001b[0m\u001b[1;33m)\u001b[0m\u001b[1;33m\u001b[0m\u001b[1;33m\u001b[0m\u001b[0m\n\u001b[1;32m--> 278\u001b[1;33m             \u001b[0mself\u001b[0m\u001b[1;33m.\u001b[0m\u001b[0m_post_plot_logic\u001b[0m\u001b[1;33m(\u001b[0m\u001b[0max\u001b[0m\u001b[1;33m,\u001b[0m \u001b[0mself\u001b[0m\u001b[1;33m.\u001b[0m\u001b[0mdata\u001b[0m\u001b[1;33m)\u001b[0m\u001b[1;33m\u001b[0m\u001b[1;33m\u001b[0m\u001b[0m\n\u001b[0m\u001b[0;32m    279\u001b[0m \u001b[1;33m\u001b[0m\u001b[0m\n\u001b[0;32m    280\u001b[0m     \u001b[1;32mdef\u001b[0m \u001b[0m_args_adjust\u001b[0m\u001b[1;33m(\u001b[0m\u001b[0mself\u001b[0m\u001b[1;33m)\u001b[0m\u001b[1;33m:\u001b[0m\u001b[1;33m\u001b[0m\u001b[1;33m\u001b[0m\u001b[0m\n",
      "\u001b[1;32m~\\anaconda3\\envs\\3.8.2\\lib\\site-packages\\pandas\\plotting\\_matplotlib\\core.py\u001b[0m in \u001b[0;36m_post_plot_logic\u001b[1;34m(self, ax, data)\u001b[0m\n\u001b[0;32m   1459\u001b[0m         \u001b[0mname\u001b[0m \u001b[1;33m=\u001b[0m \u001b[0mself\u001b[0m\u001b[1;33m.\u001b[0m\u001b[0m_get_index_name\u001b[0m\u001b[1;33m(\u001b[0m\u001b[1;33m)\u001b[0m\u001b[1;33m\u001b[0m\u001b[1;33m\u001b[0m\u001b[0m\n\u001b[0;32m   1460\u001b[0m \u001b[1;33m\u001b[0m\u001b[0m\n\u001b[1;32m-> 1461\u001b[1;33m         \u001b[0ms_edge\u001b[0m \u001b[1;33m=\u001b[0m \u001b[0mself\u001b[0m\u001b[1;33m.\u001b[0m\u001b[0max_pos\u001b[0m\u001b[1;33m[\u001b[0m\u001b[1;36m0\u001b[0m\u001b[1;33m]\u001b[0m \u001b[1;33m-\u001b[0m \u001b[1;36m0.25\u001b[0m \u001b[1;33m+\u001b[0m \u001b[0mself\u001b[0m\u001b[1;33m.\u001b[0m\u001b[0mlim_offset\u001b[0m\u001b[1;33m\u001b[0m\u001b[1;33m\u001b[0m\u001b[0m\n\u001b[0m\u001b[0;32m   1462\u001b[0m         \u001b[0me_edge\u001b[0m \u001b[1;33m=\u001b[0m \u001b[0mself\u001b[0m\u001b[1;33m.\u001b[0m\u001b[0max_pos\u001b[0m\u001b[1;33m[\u001b[0m\u001b[1;33m-\u001b[0m\u001b[1;36m1\u001b[0m\u001b[1;33m]\u001b[0m \u001b[1;33m+\u001b[0m \u001b[1;36m0.25\u001b[0m \u001b[1;33m+\u001b[0m \u001b[0mself\u001b[0m\u001b[1;33m.\u001b[0m\u001b[0mbar_width\u001b[0m \u001b[1;33m+\u001b[0m \u001b[0mself\u001b[0m\u001b[1;33m.\u001b[0m\u001b[0mlim_offset\u001b[0m\u001b[1;33m\u001b[0m\u001b[1;33m\u001b[0m\u001b[0m\n\u001b[0;32m   1463\u001b[0m \u001b[1;33m\u001b[0m\u001b[0m\n",
      "\u001b[1;31mIndexError\u001b[0m: index 0 is out of bounds for axis 0 with size 0"
     ]
    }
   ],
   "source": [
    "df1 = pd.read_pickle(\"../df1.pkl\")\n",
    "df2 = pd.read_pickle(\"../df2.pkl\")\n",
    "df3 = pd.read_pickle(\"../df3.pkl\")\n",
    "df4 = pd.read_pickle(\"../df4.pkl\")\n",
    "pd.concat([])\n",
    "\n",
    "df1 = df1[df1[\"Admin2\"] == \"Miami\"]\n",
    "df1.plot.bar(x='date', y='Confirmed')"
   ]
  },
  {
   "cell_type": "code",
   "execution_count": null,
   "metadata": {},
   "outputs": [],
   "source": []
  }
 ]
}